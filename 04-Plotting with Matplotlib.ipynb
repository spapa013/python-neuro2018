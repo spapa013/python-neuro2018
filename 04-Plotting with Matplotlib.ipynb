{
 "cells": [
  {
   "cell_type": "markdown",
   "metadata": {},
   "source": [
    "# Plotting with Matplotlib"
   ]
  },
  {
   "cell_type": "markdown",
   "metadata": {},
   "source": [
    "Now you have learned how to handle numerical data and perform computations on them through NumPy library, it's time to learn how to visualize your data and computation results. By far the most popular plotting package for Python is **Matplotlib**."
   ]
  },
  {
   "cell_type": "markdown",
   "metadata": {},
   "source": [
    "Just like NumPy, you start using Matplotlib by importing the package. However, this time we are going to import a particular subpackage that houses all of the common plotting functions."
   ]
  },
  {
   "cell_type": "code",
   "execution_count": null,
   "metadata": {},
   "outputs": [],
   "source": [
    "import matplotlib.pyplot as plt"
   ]
  },
  {
   "cell_type": "markdown",
   "metadata": {},
   "source": [
    "Furthermore, we are going to tell Jupyter notebook that we want all plots to show up inside the notebook:"
   ]
  },
  {
   "cell_type": "code",
   "execution_count": null,
   "metadata": {},
   "outputs": [],
   "source": [
    "%matplotlib inline"
   ]
  },
  {
   "cell_type": "markdown",
   "metadata": {},
   "source": [
    "As we are going to be working with numerical data during the plotting, we are also going to import `numpy`:"
   ]
  },
  {
   "cell_type": "code",
   "execution_count": null,
   "metadata": {},
   "outputs": [],
   "source": [
    "import numpy as np"
   ]
  },
  {
   "cell_type": "markdown",
   "metadata": {},
   "source": [
    "This pattern of importing multiple packages at the top of your notebook/script is a very common practice when working in Python!"
   ]
  },
  {
   "cell_type": "markdown",
   "metadata": {},
   "source": [
    "## Your first plot"
   ]
  },
  {
   "cell_type": "markdown",
   "metadata": {},
   "source": [
    "Let's dive right into plotting something! Let's start simple with a line: $y=x$"
   ]
  },
  {
   "cell_type": "code",
   "execution_count": null,
   "metadata": {},
   "outputs": [],
   "source": [
    "x = np.linspace(0, 5, 3)\n",
    "y = x\n",
    "plt.plot(x, y)"
   ]
  },
  {
   "cell_type": "markdown",
   "metadata": {},
   "source": [
    "That was quite simple wasn't it? Let's now take some time to understand what just happened."
   ]
  },
  {
   "cell_type": "markdown",
   "metadata": {},
   "source": [
    "## Plotting in Matplotlib"
   ]
  },
  {
   "cell_type": "markdown",
   "metadata": {},
   "source": [
    "Let's take a closer look at the `plt.plot` function we just used:"
   ]
  },
  {
   "cell_type": "code",
   "execution_count": null,
   "metadata": {},
   "outputs": [],
   "source": [
    "plt.plot?"
   ]
  },
  {
   "cell_type": "markdown",
   "metadata": {},
   "source": [
    "There is a lot of information in that docstring, but the essential information is summarized by the first sentence:\n",
    "> Plot y versus x as lines and/or markers.\n",
    "\n",
    "When you plot with `plt.plot`, you are plotting a **sequence of (x, y) points** connected by a straight line. To see this point better, let's try plotting a slightly more complex function: $y = x^2$"
   ]
  },
  {
   "cell_type": "code",
   "execution_count": null,
   "metadata": {},
   "outputs": [],
   "source": [
    "x = np.linspace(0, 5, 3)\n",
    "y = x**2\n",
    "plt.plot(x, y)"
   ]
  },
  {
   "cell_type": "markdown",
   "metadata": {},
   "source": [
    "Notice that our plot doesn't look too smooth. This is because you used only 3 pairs of points in your plot, as can be seen by inspecting your `x` and `y`."
   ]
  },
  {
   "cell_type": "code",
   "execution_count": null,
   "metadata": {},
   "outputs": [],
   "source": [
    "x"
   ]
  },
  {
   "cell_type": "code",
   "execution_count": null,
   "metadata": {},
   "outputs": [],
   "source": [
    "y"
   ]
  },
  {
   "cell_type": "markdown",
   "metadata": {},
   "source": [
    "To get a smoother curve, you have to plot at many more points inbetween:"
   ]
  },
  {
   "cell_type": "code",
   "execution_count": null,
   "metadata": {},
   "outputs": [],
   "source": [
    "x = np.linspace(0, 5, 100)  # using 100 points instead\n",
    "y = x**2\n",
    "plt.plot(x, y)"
   ]
  },
  {
   "cell_type": "markdown",
   "metadata": {},
   "source": [
    "Now your curve looks much smoother!"
   ]
  },
  {
   "cell_type": "markdown",
   "metadata": {},
   "source": [
    "## Customizing the plotting of data points"
   ]
  },
  {
   "cell_type": "markdown",
   "metadata": {},
   "source": [
    "By default `plot` simply draws a line segment between two consecutive points. You can customize the plot styling by passing in a string that specifies the **line and marker style**."
   ]
  },
  {
   "cell_type": "code",
   "execution_count": null,
   "metadata": {},
   "outputs": [],
   "source": [
    "x = np.linspace(0, 5, 10)\n",
    "y = x**2\n",
    "plt.plot(x, y, 'o') # plots circle at the data points with no lines connecting them"
   ]
  },
  {
   "cell_type": "code",
   "execution_count": null,
   "metadata": {},
   "outputs": [],
   "source": [
    "x = np.linspace(0, 5, 10)\n",
    "y = x**2\n",
    "plt.plot(x, y, 'o-') # plots circle connected with line"
   ]
  },
  {
   "cell_type": "code",
   "execution_count": null,
   "metadata": {},
   "outputs": [],
   "source": [
    "x = np.linspace(0, 5, 10)\n",
    "y = x**2\n",
    "plt.plot(x, y, '--') # plot dashed line"
   ]
  },
  {
   "cell_type": "code",
   "execution_count": null,
   "metadata": {},
   "outputs": [],
   "source": [
    "x = np.linspace(0, 5, 10)\n",
    "y = x**2\n",
    "plt.plot(x, y, 'D--') # plot dashed line connecting diamonds"
   ]
  },
  {
   "cell_type": "markdown",
   "metadata": {},
   "source": [
    "You can checkout Matplotlib's references for more information about available [marker](https://matplotlib.org/api/markers_api.html) and [line](https://matplotlib.org/gallery/lines_bars_and_markers/line_styles_reference.html) styles."
   ]
  },
  {
   "cell_type": "markdown",
   "metadata": {},
   "source": [
    "## Adding more information to your plot"
   ]
  },
  {
   "cell_type": "markdown",
   "metadata": {},
   "source": [
    "When you plot data, it is always a good idea to **label the axis** and give some title to your plot, so it beceomes easier for others to understand what you just plotted. You can use `plt.xlabel`, `plt.ylabel`, and `plt.title` to add these information:"
   ]
  },
  {
   "cell_type": "code",
   "execution_count": null,
   "metadata": {},
   "outputs": [],
   "source": [
    "angle = np.linspace(-2*np.pi, 2*np.pi)\n",
    "value = np.cos(angle)\n",
    "\n",
    "plt.plot(angle, value)\n",
    "\n",
    "# add x and y labels\n",
    "plt.xlabel('Angle (radians)')\n",
    "plt.ylabel('Value')\n",
    "\n",
    "# add a title\n",
    "plt.title('Trigonometric function')"
   ]
  },
  {
   "cell_type": "markdown",
   "metadata": {},
   "source": [
    "## Plotting multiple lines"
   ]
  },
  {
   "cell_type": "markdown",
   "metadata": {},
   "source": [
    "You can plot multiple curves together in the same plot:"
   ]
  },
  {
   "cell_type": "code",
   "execution_count": null,
   "metadata": {},
   "outputs": [],
   "source": [
    "angle = np.linspace(-2*np.pi, 2*np.pi)\n",
    "value1 = np.cos(angle)\n",
    "value2 = np.sin(angle)\n",
    "\n",
    "plt.plot(angle, value1)\n",
    "plt.plot(angle, value2)\n",
    "\n",
    "\n",
    "plt.xlabel('Angle (radians)')\n",
    "plt.ylabel('Value')\n",
    "\n",
    "plt.title('Trigonometric function')"
   ]
  },
  {
   "cell_type": "markdown",
   "metadata": {},
   "source": [
    "While separate lines are color coded, it is not easy to tell what curve is what. You would want **legend** for the lines. Thankfully, there is a function for that called `plt.legend`!"
   ]
  },
  {
   "cell_type": "code",
   "execution_count": null,
   "metadata": {},
   "outputs": [],
   "source": [
    "angle = np.linspace(-2*np.pi, 2*np.pi)\n",
    "value1 = np.cos(angle)\n",
    "value2 = np.sin(angle)\n",
    "\n",
    "plt.plot(angle, value1)\n",
    "plt.plot(angle, value2)\n",
    "\n",
    "\n",
    "plt.xlabel('Angle (radians)')\n",
    "plt.ylabel('Value')\n",
    "\n",
    "plt.title('Trigonometric function')\n",
    "plt.legend()"
   ]
  },
  {
   "cell_type": "markdown",
   "metadata": {},
   "source": [
    "Notice that calling `plt.legend` didn't quite give you a nice legend, but rather gave you a warning: `No handles with labels found to put in legend`. This is Matplotlib's way of saying that you haven't labeled any lines to generate legend for!\n",
    "\n",
    "When you plot, you can specify the keyword argument `label` in `plot`:"
   ]
  },
  {
   "cell_type": "code",
   "execution_count": null,
   "metadata": {},
   "outputs": [],
   "source": [
    "angle = np.linspace(-2*np.pi, 2*np.pi)\n",
    "value1 = np.cos(angle)\n",
    "value2 = np.sin(angle)\n",
    "\n",
    "plt.plot(angle, value1, label='cos(x)')\n",
    "plt.plot(angle, value2, label='sin(x)')\n",
    "\n",
    "\n",
    "plt.xlabel('Angle (radians)')\n",
    "plt.ylabel('Value')\n",
    "\n",
    "plt.title('Trigonometric function')\n",
    "plt.legend()"
   ]
  },
  {
   "cell_type": "markdown",
   "metadata": {},
   "source": [
    "## Customizing plots with keyword arguments"
   ]
  },
  {
   "cell_type": "markdown",
   "metadata": {},
   "source": [
    "It turns out that you can customize the behavior of the plotting function by using additional keyword arguments. Let's take a look at a few:"
   ]
  },
  {
   "cell_type": "markdown",
   "metadata": {},
   "source": [
    "### Changing color of the line"
   ]
  },
  {
   "cell_type": "code",
   "execution_count": null,
   "metadata": {},
   "outputs": [],
   "source": [
    "x = np.linspace(-10, 10, 50)\n",
    "y = x**3 - x**2 - 50 * x - 10\n",
    "\n",
    "plt.plot(x, y, color='red')"
   ]
  },
  {
   "cell_type": "markdown",
   "metadata": {},
   "source": [
    "### Changing the thickness of the line"
   ]
  },
  {
   "cell_type": "code",
   "execution_count": null,
   "metadata": {},
   "outputs": [],
   "source": [
    "x = np.linspace(-10, 10, 50)\n",
    "y = x**3 - x**2 - 50 * x - 10\n",
    "\n",
    "plt.plot(x, y, linewidth=5)"
   ]
  },
  {
   "cell_type": "markdown",
   "metadata": {},
   "source": [
    "### Changing marker and marker size"
   ]
  },
  {
   "cell_type": "code",
   "execution_count": null,
   "metadata": {},
   "outputs": [],
   "source": [
    "x = np.linspace(-10, 10, 20)\n",
    "y = x**3 - x**2 - 50 * x - 10\n",
    "\n",
    "plt.plot(x, y, marker='s')"
   ]
  },
  {
   "cell_type": "code",
   "execution_count": null,
   "metadata": {},
   "outputs": [],
   "source": [
    "x = np.linspace(-10, 10, 20)\n",
    "y = x**3 - x**2 - 50 * x - 10\n",
    "\n",
    "plt.plot(x, y, marker='s', markersize=10)"
   ]
  },
  {
   "cell_type": "markdown",
   "metadata": {},
   "source": [
    "# Changing the properties of the axis"
   ]
  },
  {
   "cell_type": "markdown",
   "metadata": {},
   "source": [
    "You can also heavily customize the properties of the plotting area, such as axis limits and tick placements."
   ]
  },
  {
   "cell_type": "markdown",
   "metadata": {},
   "source": [
    "Consider the following plot"
   ]
  },
  {
   "cell_type": "code",
   "execution_count": null,
   "metadata": {},
   "outputs": [],
   "source": [
    "n = 100\n",
    "r = np.linspace(0, 1, n)\n",
    "theta = np.linspace(0, 8*np.pi, n)\n",
    "x = r * np.cos(theta)\n",
    "y = r * np.sin(theta)\n",
    "\n",
    "plt.plot(x, y)"
   ]
  },
  {
   "cell_type": "markdown",
   "metadata": {},
   "source": [
    "Let's set the limits of x and y axis to be exactly -1 to 1 using `plt.xlim` and `plt.ylim`"
   ]
  },
  {
   "cell_type": "code",
   "execution_count": null,
   "metadata": {},
   "outputs": [],
   "source": [
    "n = 100\n",
    "r = np.linspace(0, 1, n)\n",
    "theta = np.linspace(0, 8*np.pi, n)\n",
    "x = r * np.cos(theta)\n",
    "y = r * np.sin(theta)\n",
    "\n",
    "plt.plot(x, y)\n",
    "\n",
    "# set x and y limits\n",
    "plt.xlim([-1, 1])\n",
    "plt.ylim([-1, 1])"
   ]
  },
  {
   "cell_type": "markdown",
   "metadata": {},
   "source": [
    "We also want the ticks to occur at only [-1, 0, 1]. Use `plt.xticks` and `plt.yticks`!"
   ]
  },
  {
   "cell_type": "code",
   "execution_count": null,
   "metadata": {},
   "outputs": [],
   "source": [
    "n = 100\n",
    "r = np.linspace(0, 1, n)\n",
    "theta = np.linspace(0, 8*np.pi, n)\n",
    "x = r * np.cos(theta)\n",
    "y = r * np.sin(theta)\n",
    "\n",
    "plt.plot(x, y)\n",
    "\n",
    "# set x and y limits\n",
    "plt.xlim([-1, 1])\n",
    "plt.ylim([-1, 1])\n",
    "\n",
    "# set ticks\n",
    "plt.xticks([-1, 0, 1])\n",
    "plt.yticks([-1, 0, 1])"
   ]
  },
  {
   "cell_type": "markdown",
   "metadata": {},
   "source": [
    "Finally, it would also be nice if the plot can actually be a square. Use `plt.axis` to control axis **aspect ratio**!"
   ]
  },
  {
   "cell_type": "code",
   "execution_count": null,
   "metadata": {},
   "outputs": [],
   "source": [
    "n = 100\n",
    "r = np.linspace(0, 1, n)\n",
    "theta = np.linspace(0, 8*np.pi, n)\n",
    "x = r * np.cos(theta)\n",
    "y = r * np.sin(theta)\n",
    "\n",
    "plt.plot(x, y)\n",
    "\n",
    "# set x and y limits\n",
    "plt.xlim([-1, 1])\n",
    "plt.ylim([-1, 1])\n",
    "\n",
    "# set ticks\n",
    "plt.xticks([-1, 0, 1])\n",
    "plt.yticks([-1, 0, 1])\n",
    "\n",
    "# set aspect ratio to \"square\"\n",
    "plt.axis('square')"
   ]
  },
  {
   "cell_type": "code",
   "execution_count": null,
   "metadata": {},
   "outputs": [],
   "source": [
    "n = 100\n",
    "r = np.linspace(0, 1, n)\n",
    "theta = np.linspace(0, 8*np.pi, n)\n",
    "x = r * np.cos(theta)\n",
    "y = r * np.sin(theta)\n",
    "\n",
    "plt.plot(x, y)\n",
    "\n",
    "# set x and y limits\n",
    "plt.xlim([-1, 1])\n",
    "plt.ylim([-1, 1])\n",
    "\n",
    "# set ticks\n",
    "plt.xticks([-1, 0, 1])\n",
    "plt.yticks([-1, 0, 1])\n",
    "\n",
    "# set aspect ratio to \"square\"\n",
    "plt.axis('square')"
   ]
  },
  {
   "cell_type": "markdown",
   "metadata": {},
   "source": [
    "## A figure with multiple subplots"
   ]
  },
  {
   "cell_type": "code",
   "execution_count": null,
   "metadata": {},
   "outputs": [],
   "source": [
    "x = np.linspace(-1, 1, 100)\n",
    "\n",
    "plt.subplot(2, 3, 1)\n",
    "plt.plot(x, x**0)\n",
    "\n",
    "plt.subplot(2, 3, 2)\n",
    "plt.plot(x, x**1)\n",
    "\n",
    "plt.subplot(2, 3, 3)\n",
    "plt.plot(x, x**2)\n",
    "\n",
    "plt.subplot(2, 3, 4)\n",
    "plt.plot(x, x**3)\n",
    "\n",
    "plt.subplot(2, 3, 5)\n",
    "plt.plot(x, x**4)\n",
    "\n",
    "plt.subplot(2, 3, 6)\n",
    "plt.plot(x, x**5)"
   ]
  },
  {
   "cell_type": "markdown",
   "metadata": {},
   "source": [
    "Notice that labels are overlapping. You can call `plt.tight_layout` to let Matplotlib automatically adjust spacing between subplots to avoid overlap."
   ]
  },
  {
   "cell_type": "code",
   "execution_count": null,
   "metadata": {},
   "outputs": [],
   "source": [
    "x = np.linspace(-1, 1, 100)\n",
    "\n",
    "plt.subplot(2, 3, 1)\n",
    "plt.plot(x, x**0)\n",
    "\n",
    "plt.subplot(2, 3, 2)\n",
    "plt.plot(x, x**1)\n",
    "\n",
    "plt.subplot(2, 3, 3)\n",
    "plt.plot(x, x**2)\n",
    "\n",
    "plt.subplot(2, 3, 4)\n",
    "plt.plot(x, x**3)\n",
    "\n",
    "plt.subplot(2, 3, 5)\n",
    "plt.plot(x, x**4)\n",
    "\n",
    "plt.subplot(2, 3, 6)\n",
    "plt.plot(x, x**5)\n",
    "\n",
    "plt.tight_layout()"
   ]
  },
  {
   "cell_type": "markdown",
   "metadata": {},
   "source": [
    "# Closer look at Matplotlib: Figures, Subplots, Axes, and Ticks"
   ]
  },
  {
   "cell_type": "markdown",
   "metadata": {},
   "source": [
    "So far we have been using Matplotlib's convenience interface for making new figures and start plotting. While this works very well, learning a bit about how figures are structures in Matplotlib can turn you from a Matplotlib novice to an Matplotlib wizard!"
   ]
  },
  {
   "cell_type": "markdown",
   "metadata": {},
   "source": [
    "## Figure object"
   ]
  },
  {
   "cell_type": "markdown",
   "metadata": {},
   "source": [
    "So far, you have been creating a Matplotlib **figure** object when you used functions like `plt.plot`. But you can explicitly create a new **figure object** that serves as the container for everything you plot."
   ]
  },
  {
   "cell_type": "code",
   "execution_count": null,
   "metadata": {},
   "outputs": [],
   "source": [
    "fig = plt.figure()  # create a new empty figure"
   ]
  },
  {
   "cell_type": "markdown",
   "metadata": {},
   "source": [
    "As an empty figure there is not much in it to see. Let's go ahead and add some **axes** object!"
   ]
  },
  {
   "cell_type": "markdown",
   "metadata": {},
   "source": [
    "## Axes object"
   ]
  },
  {
   "cell_type": "markdown",
   "metadata": {},
   "source": [
    "While figure represent the whole figure including the margins, an **axes** object represents the part of the figure where you actually plot things."
   ]
  },
  {
   "cell_type": "markdown",
   "metadata": {},
   "source": [
    "Although you can create an axes object and then add it to the figure:"
   ]
  },
  {
   "cell_type": "code",
   "execution_count": null,
   "metadata": {},
   "outputs": [],
   "source": [
    "fig = plt.figure()  # create a new empty figure\n",
    "ax = plt.axes()\n",
    "fig.add_axes(ax)"
   ]
  },
  {
   "cell_type": "markdown",
   "metadata": {},
   "source": [
    "this is rather inconveneint. Instead, you can use `plt.subplots` function to create a new figure and an axes already placed inside."
   ]
  },
  {
   "cell_type": "code",
   "execution_count": null,
   "metadata": {},
   "outputs": [],
   "source": [
    "fig, ax = plt.subplots()"
   ]
  },
  {
   "cell_type": "markdown",
   "metadata": {},
   "source": [
    "When creating figure through this **object based** approach, you would use the `ax` object to plot:"
   ]
  },
  {
   "cell_type": "code",
   "execution_count": null,
   "metadata": {},
   "outputs": [],
   "source": [
    "fig, ax = plt.subplots()\n",
    "\n",
    "x = np.linspace(0, 1, 30)\n",
    "ax.plot(x, x**2, 'o', color='orange')"
   ]
  },
  {
   "cell_type": "markdown",
   "metadata": {},
   "source": [
    "Now at this point, you may be wondering what's the point of all of these exercises? It may look like this is making your life unnecessary complicated. Just bear with me for a bit more, and you'll soon see the power of this method!"
   ]
  },
  {
   "cell_type": "markdown",
   "metadata": {},
   "source": [
    "With this method, you can actually create two figures side by side:"
   ]
  },
  {
   "cell_type": "code",
   "execution_count": null,
   "metadata": {},
   "outputs": [],
   "source": [
    "# create two figures, with axes in each\n",
    "fig1, ax1 = plt.subplots()\n",
    "\n",
    "fig2, ax2 = plt.subplots()\n",
    "\n",
    "x = np.linspace(0, 1, 30)\n",
    "\n",
    "ax1.plot(x, x**2, 'o', color='orange')\n",
    "ax2.plot(x, x**3, 'o', color='blue')\n",
    "\n",
    "# plot again in ax1\n",
    "ax1.plot(x, x, 'x', color='green')"
   ]
  },
  {
   "cell_type": "markdown",
   "metadata": {},
   "source": [
    "But the true strenght of this approach really shows through when working with *subplots* **programmmatically**."
   ]
  },
  {
   "cell_type": "code",
   "execution_count": null,
   "metadata": {},
   "outputs": [],
   "source": [
    "fig, axs =  plt.subplots(3, 3) # create 3 x 3 subplots - 9 axes placed in an NumPy array"
   ]
  },
  {
   "cell_type": "code",
   "execution_count": null,
   "metadata": {},
   "outputs": [],
   "source": [
    "axs"
   ]
  },
  {
   "cell_type": "code",
   "execution_count": null,
   "metadata": {},
   "outputs": [],
   "source": [
    "axs.shape"
   ]
  },
  {
   "cell_type": "code",
   "execution_count": null,
   "metadata": {},
   "outputs": [],
   "source": [
    "fig, axs =  plt.subplots(3, 3) # create 3 x 3 subplots - 9 axes placed in an NumPy array\n",
    "\n",
    "x = np.linspace(-1, 1, 100)\n",
    "for ax in axs.ravel():   # flatten and visit one ax at a time\n",
    "    ax.plot(x, x)"
   ]
  },
  {
   "cell_type": "markdown",
   "metadata": {},
   "source": [
    "More intersting - remember `enumerate`?"
   ]
  },
  {
   "cell_type": "code",
   "execution_count": null,
   "metadata": {},
   "outputs": [],
   "source": [
    "fig, axs =  plt.subplots(3, 3) # create 3 x 3 subplots - 9 axes placed in an NumPy array\n",
    "\n",
    "x = np.linspace(-1, 1, 100)\n",
    "for i, ax in enumerate(axs.ravel()):   # flatten and visit one ax at a time\n",
    "    ax.plot(x, x**i)\n",
    "    ax.set_title('y=x^{}'.format(i))"
   ]
  },
  {
   "cell_type": "code",
   "execution_count": null,
   "metadata": {},
   "outputs": [],
   "source": [
    "fig, axs =  plt.subplots(3, 3) # create 3 x 3 subplots - 9 axes placed in an NumPy array\n",
    "\n",
    "x = np.linspace(-1, 1, 100)\n",
    "for i, ax in enumerate(axs.ravel()):   # flatten and visit one ax at a time\n",
    "    ax.plot(x, x**i)\n",
    "    ax.set_title('y=x^{}'.format(i))\n",
    "    \n",
    "fig.tight_layout()"
   ]
  },
  {
   "cell_type": "markdown",
   "metadata": {},
   "source": [
    "Let's increase the size of figure by setting figure size in inches"
   ]
  },
  {
   "cell_type": "code",
   "execution_count": null,
   "metadata": {},
   "outputs": [],
   "source": [
    "fig, axs =  plt.subplots(3, 3, figsize=(12, 12)) # create 3 x 3 subplots - 9 axes placed in an NumPy array\n",
    "\n",
    "x = np.linspace(-1, 1, 100)\n",
    "for i, ax in enumerate(axs.ravel()):   # flatten and visit one ax at a time\n",
    "    ax.plot(x, x**i)\n",
    "    ax.set_title('$y=x^{}$'.format(i))\n",
    "    \n",
    "fig.tight_layout()"
   ]
  },
  {
   "cell_type": "markdown",
   "metadata": {},
   "source": [
    "Alternatively (or in addition to), you can control the **resolution** of the plot by setting **dpi**"
   ]
  },
  {
   "cell_type": "code",
   "execution_count": null,
   "metadata": {},
   "outputs": [],
   "source": [
    "fig, axs =  plt.subplots(3, 3, figsize=(12, 12), dpi=200) # create 3 x 3 subplots - 9 axes placed in an NumPy array\n",
    "\n",
    "x = np.linspace(-1, 1, 100)\n",
    "for i, ax in enumerate(axs.ravel()):   # flatten and visit one ax at a time\n",
    "    ax.plot(x, x**i)\n",
    "    ax.set_title('$y=x^{}$'.format(i))\n",
    "    \n",
    "fig.tight_layout()"
   ]
  },
  {
   "cell_type": "markdown",
   "metadata": {},
   "source": [
    "# Other kinds of plots"
   ]
  },
  {
   "cell_type": "markdown",
   "metadata": {},
   "source": [
    "While `plt.plot` gives you **line plots** that is very useful for plotting sequential information, you would obviously want to be able to generate other kinds of plots. Don't worry! Matplotlib got you covered!"
   ]
  },
  {
   "cell_type": "markdown",
   "metadata": {},
   "source": [
    "## Bar plots"
   ]
  },
  {
   "cell_type": "code",
   "execution_count": null,
   "metadata": {},
   "outputs": [],
   "source": [
    "n = 12\n",
    "X = np.arange(n)\n",
    "Y = np.random.rand(n)\n",
    "plt.bar(X, Y)"
   ]
  },
  {
   "cell_type": "markdown",
   "metadata": {},
   "source": [
    "## Scatter plots"
   ]
  },
  {
   "cell_type": "markdown",
   "metadata": {},
   "source": [
    "You can make **scatter plots** using `plt.scatter`"
   ]
  },
  {
   "cell_type": "code",
   "execution_count": null,
   "metadata": {},
   "outputs": [],
   "source": [
    "x = np.random.randn(100)\n",
    "y = np.random.randn(100)\n",
    "\n",
    "plt.scatter(x, y)"
   ]
  },
  {
   "cell_type": "markdown",
   "metadata": {},
   "source": [
    "There is an optional argument `c` that can be used to control the **color** of the points based on some value."
   ]
  },
  {
   "cell_type": "code",
   "execution_count": null,
   "metadata": {},
   "outputs": [],
   "source": [
    "x = np.random.randn(100)\n",
    "y = np.random.randn(100)\n",
    "\n",
    "delta = np.abs(x - y)\n",
    "\n",
    "plt.scatter(x, y, c=delta)\n",
    "plt.colorbar()"
   ]
  },
  {
   "cell_type": "markdown",
   "metadata": {},
   "source": [
    "Here we are showing the ground truth linear model, and some samples with noise!"
   ]
  },
  {
   "cell_type": "code",
   "execution_count": null,
   "metadata": {},
   "outputs": [],
   "source": [
    "x = np.linspace(0, 1, 100)\n",
    "a = 5\n",
    "b = 10\n",
    "\n",
    "# linear model\n",
    "y = a * x + b \n",
    "\n",
    "plt.plot(x, y, label='ground truth')\n",
    "\n",
    "n = 30\n",
    "sample_x = np.linspace(0, 1, n)\n",
    "noise = np.random.randn(n) * 0.5\n",
    "sample_y = a * sample_x + b + noise\n",
    "\n",
    "plt.scatter(sample_x, sample_y, label='samples')\n",
    "\n",
    "plt.legend()"
   ]
  },
  {
   "cell_type": "markdown",
   "metadata": {},
   "source": [
    "## Images"
   ]
  },
  {
   "cell_type": "markdown",
   "metadata": {},
   "source": [
    "Plotting image is also a very commong thing to do. It turns out you can simply treat an appropriately shaped NumPy array as an image!"
   ]
  },
  {
   "cell_type": "code",
   "execution_count": null,
   "metadata": {},
   "outputs": [],
   "source": [
    "img = np.random.randn(128, 128)"
   ]
  },
  {
   "cell_type": "markdown",
   "metadata": {},
   "source": [
    "...and display it using `plt.imshow`"
   ]
  },
  {
   "cell_type": "code",
   "execution_count": null,
   "metadata": {},
   "outputs": [],
   "source": [
    "plt.imshow(img)"
   ]
  },
  {
   "cell_type": "markdown",
   "metadata": {},
   "source": [
    "For simple images like this where there is no color information, you can display the image using various **color maps**."
   ]
  },
  {
   "cell_type": "code",
   "execution_count": null,
   "metadata": {},
   "outputs": [],
   "source": [
    "plt.imshow(img, cmap='gray')"
   ]
  },
  {
   "cell_type": "code",
   "execution_count": null,
   "metadata": {},
   "outputs": [],
   "source": [
    "plt.imshow(img, cmap='jet')"
   ]
  },
  {
   "cell_type": "markdown",
   "metadata": {},
   "source": [
    "You can load a sample image from `scipy` package:"
   ]
  },
  {
   "cell_type": "code",
   "execution_count": null,
   "metadata": {},
   "outputs": [],
   "source": [
    "from scipy.misc import face"
   ]
  },
  {
   "cell_type": "code",
   "execution_count": null,
   "metadata": {},
   "outputs": [],
   "source": [
    "img = face(gray=True) # get gray scale image of a \"face\""
   ]
  },
  {
   "cell_type": "code",
   "execution_count": null,
   "metadata": {},
   "outputs": [],
   "source": [
    "plt.imshow(img)"
   ]
  },
  {
   "cell_type": "code",
   "execution_count": null,
   "metadata": {},
   "outputs": [],
   "source": [
    "plt.imshow(img, cmap='gray')"
   ]
  },
  {
   "cell_type": "code",
   "execution_count": null,
   "metadata": {},
   "outputs": [],
   "source": [
    "plt.imshow(img, cmap='cool')"
   ]
  }
 ],
 "metadata": {
  "kernelspec": {
   "display_name": "Python 3",
   "language": "python",
   "name": "python3"
  },
  "language_info": {
   "codemirror_mode": {
    "name": "ipython",
    "version": 3
   },
   "file_extension": ".py",
   "mimetype": "text/x-python",
   "name": "python",
   "nbconvert_exporter": "python",
   "pygments_lexer": "ipython3",
   "version": "3.6.5"
  }
 },
 "nbformat": 4,
 "nbformat_minor": 2
}
